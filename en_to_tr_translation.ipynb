{
 "cells": [
  {
   "cell_type": "code",
   "execution_count": 1,
   "id": "4e52a680-14dc-4e55-8ca2-8b3580cb2757",
   "metadata": {},
   "outputs": [],
   "source": [
    "#The main package that contains functions to use Hugging Face\n",
    "import transformers\n",
    "from transformers.pipelines import PIPELINE_REGISTRY\n",
    "\n",
    "#Set to avoid warning messages.\n",
    "transformers.logging.set_verbosity_error()"
   ]
  },
  {
   "cell_type": "code",
   "execution_count": 2,
   "id": "be998eba-6170-4d06-b661-fc83c6ae7441",
   "metadata": {},
   "outputs": [
    {
     "name": "stdout",
     "output_type": "stream",
     "text": [
      "\n",
      "Default Model for Translation: \n",
      "{('en', 'fr'): {'model': {'pt': ('t5-base', '686f1db'), 'tf': ('t5-base', '686f1db')}}, ('en', 'de'): {'model': {'pt': ('t5-base', '686f1db'), 'tf': ('t5-base', '686f1db')}}, ('en', 'ro'): {'model': {'pt': ('t5-base', '686f1db'), 'tf': ('t5-base', '686f1db')}}}\n"
     ]
    }
   ],
   "source": [
    "#Get information about a specific task\n",
    "print(\"\\nDefault Model for Translation: \")\n",
    "print(PIPELINE_REGISTRY.check_task('translation')[1].get('default'))"
   ]
  },
  {
   "cell_type": "code",
   "execution_count": null,
   "id": "0aa5c453-de8d-471d-bbf2-7ccf8784b706",
   "metadata": {},
   "outputs": [],
   "source": [
    "from transformers import pipeline\n",
    "import os\n",
    "\n",
    "\n",
    "#Helsinki-NLP/opus-mt-tc-big-en-tr will be used to translate English to Turkish\n",
    "\n",
    "translater = pipeline(\"translation\", model=\"Helsinki-NLP/opus-mt-tc-big-en-tr\")\n",
    "\n",
    "#Cache usually available at : <<user-home>>.cache\\huggingface\\hub\n",
    "\n",
    "cache_dir = os.path.expanduser('~') + \"/.cache/huggingface/hub\"\n",
    "print(\"Huggingface Cache directory is : \", cache_dir)\n",
    "\n",
    "#Contents of cache directory\n",
    "os.listdir(cache_dir)"
   ]
  },
  {
   "cell_type": "code",
   "execution_count": 9,
   "id": "41d1e7bf-84d7-4d6a-993b-1fd99c28a2c0",
   "metadata": {},
   "outputs": [],
   "source": [
    "def translate_en_tr(en_sentence):\n",
    "    translated= translater(en_sentence)\n",
    "    return translated[0]['translation_text']"
   ]
  },
  {
   "cell_type": "code",
   "execution_count": 17,
   "id": "9905c0bd-974a-4c93-aeb8-a6f2532c0149",
   "metadata": {},
   "outputs": [
    {
     "name": "stdout",
     "output_type": "stream",
     "text": [
      "Running on local URL:  http://127.0.0.1:7866\n",
      "\n",
      "To create a public link, set `share=True` in `launch()`.\n"
     ]
    },
    {
     "data": {
      "text/html": [
       "<div><iframe src=\"http://127.0.0.1:7866/\" width=\"100%\" height=\"500\" allow=\"autoplay; camera; microphone; clipboard-read; clipboard-write;\" frameborder=\"0\" allowfullscreen></iframe></div>"
      ],
      "text/plain": [
       "<IPython.core.display.HTML object>"
      ]
     },
     "metadata": {},
     "output_type": "display_data"
    },
    {
     "data": {
      "text/plain": []
     },
     "execution_count": 17,
     "metadata": {},
     "output_type": "execute_result"
    }
   ],
   "source": [
    "import gradio as gr\n",
    "demo = gr.Interface(\n",
    "    fn = translate_en_tr,\n",
    "    inputs=gr.TextArea(label = \"English\"),\n",
    "    outputs=gr.TextArea(label=\"Turkish\"),\n",
    "    allow_flagging=\"never\",\n",
    "    examples=[\"Hi, how are you?\",\n",
    "              \"What are you going to do this weekend?\",\n",
    "              \"Artificial Intelligence can be used defined as a branch of computer science that can simulate human intelligence\"],\n",
    ")\n",
    "\n",
    "demo.launch()"
   ]
  },
  {
   "cell_type": "code",
   "execution_count": null,
   "id": "4184c569-ed77-4c8d-86bc-3886b3590bd5",
   "metadata": {},
   "outputs": [],
   "source": []
  }
 ],
 "metadata": {
  "kernelspec": {
   "display_name": "Python 3 (ipykernel)",
   "language": "python",
   "name": "python3"
  },
  "language_info": {
   "codemirror_mode": {
    "name": "ipython",
    "version": 3
   },
   "file_extension": ".py",
   "mimetype": "text/x-python",
   "name": "python",
   "nbconvert_exporter": "python",
   "pygments_lexer": "ipython3",
   "version": "3.11.4"
  }
 },
 "nbformat": 4,
 "nbformat_minor": 5
}
